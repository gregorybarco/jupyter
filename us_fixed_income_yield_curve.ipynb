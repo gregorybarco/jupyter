{
 "cells": [
  {
   "cell_type": "markdown",
   "id": "e5193b1e-3930-435c-8e74-612c09f3f802",
   "metadata": {},
   "source": [
    "## US Fixed Income Yield Curve Notebook Will Be Updated Soon \n",
    "\n",
    "I am in the process of documentation.\n",
    "\n",
    "Date: July 7th, 2025.\n",
    "\n",
    "Thank you for your patience!\n",
    "\n",
    "Sincerely,\n",
    "\n",
    "Gregory Barco"
   ]
  }
 ],
 "metadata": {
  "kernelspec": {
   "display_name": "Python 3 (ipykernel)",
   "language": "python",
   "name": "python3"
  },
  "language_info": {
   "codemirror_mode": {
    "name": "ipython",
    "version": 3
   },
   "file_extension": ".py",
   "mimetype": "text/x-python",
   "name": "python",
   "nbconvert_exporter": "python",
   "pygments_lexer": "ipython3",
   "version": "3.10.16"
  }
 },
 "nbformat": 4,
 "nbformat_minor": 5
}
